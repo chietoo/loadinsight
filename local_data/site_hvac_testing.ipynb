{
 "cells": [
  {
   "cell_type": "code",
   "execution_count": 1,
   "metadata": {},
   "outputs": [],
   "source": [
    "import pandas as pd\n",
    "import numpy as np\n",
    "import os"
   ]
  },
  {
   "cell_type": "code",
   "execution_count": 2,
   "metadata": {},
   "outputs": [],
   "source": [
    "files = ['raw/RBSAM_Y1_PART 1 OF 4.csv', '/raw/RBSAM_Y1_PART 2 OF 4.csv', '/raw/RBSAM_Y1_PART 3 OF 4.csv',\n",
    "    'raw/RBSAM_Y1_PART 4 OF 4.csv', 'raw/RBSAM_Y2_PART 1 OF 5.csv', 'raw/RBSAM_Y2_PART 2 OF 5.csv',\n",
    "    'raw/RBSAM_Y2_PART 3 OF 5.csv', 'raw/RBSAM_Y2_PART 4 OF 5.csv', 'raw/RBSAM_Y2_PART 5 OF 5.csv'\n",
    "    ]"
   ]
  },
  {
   "cell_type": "code",
   "execution_count": 3,
   "metadata": {},
   "outputs": [],
   "source": [
    "sites = []\n",
    "\n",
    "for filename in files:\n",
    "    df = pd.read_csv('rbsa/'+filename)\n",
    "    sites = sites + list(df['siteid'].unique())"
   ]
  },
  {
   "cell_type": "code",
   "execution_count": 4,
   "metadata": {},
   "outputs": [],
   "source": [
    "sites = set(sites)"
   ]
  },
  {
   "cell_type": "code",
   "execution_count": 5,
   "metadata": {},
   "outputs": [
    {
     "data": {
      "text/plain": [
       "103"
      ]
     },
     "execution_count": 5,
     "metadata": {},
     "output_type": "execute_result"
    }
   ],
   "source": [
    "len(sites)"
   ]
  },
  {
   "cell_type": "code",
   "execution_count": 6,
   "metadata": {},
   "outputs": [],
   "source": [
    "hvac_df = pd.read_csv('rbsa/2011 RBSA Single Family Database-HVACcooling.csv', index_col=0)"
   ]
  },
  {
   "cell_type": "code",
   "execution_count": 17,
   "metadata": {},
   "outputs": [
    {
     "name": "stdout",
     "output_type": "stream",
     "text": [
      "20998\n",
      "23049\n",
      "13336\n",
      "20020\n",
      "23618\n",
      "20553\n",
      "13903\n",
      "13400\n",
      "13912\n",
      "22615\n",
      "23138\n",
      "24684\n",
      "21615\n",
      "22138\n",
      "22144\n",
      "13445\n",
      "10887\n",
      "24203\n",
      "13974\n",
      "21143\n",
      "11418\n",
      "22177\n",
      "22699\n",
      "14508\n",
      "21678\n",
      "12975\n",
      "20685\n",
      "14542\n",
      "22222\n",
      "12507\n",
      "24808\n",
      "14073\n",
      "20753\n",
      "14102\n",
      "22822\n",
      "21799\n",
      "21298\n",
      "14646\n",
      "24378\n",
      "14150\n",
      "20807\n",
      "24400\n",
      "14174\n",
      "21343\n",
      "21355\n",
      "21905\n",
      "23960\n",
      "22938\n",
      "13222\n",
      "14331\n",
      "21414\n",
      "24495\n",
      "13248\n",
      "14277\n",
      "13261\n",
      "22514\n",
      "23028\n",
      "20469\n",
      "14329\n",
      "21499\n",
      "11775\n"
     ]
    },
    {
     "data": {
      "text/plain": [
       "61"
      ]
     },
     "execution_count": 17,
     "metadata": {},
     "output_type": "execute_result"
    }
   ],
   "source": [
    "exist_count = 0\n",
    "hvac_dict = {}\n",
    "\n",
    "for site in sites:\n",
    "    if site in hvac_df['siteid'].unique():\n",
    "        print(site)\n",
    "        exist_count += 1\n",
    "        hvac_type = hvac_df.loc[hvac_df['siteid'] == site]['HVACType'].iloc[0]\n",
    "        if hvac_type in hvac_dict.keys():\n",
    "            hvac_dict[hvac_type] += 1\n",
    "        else:\n",
    "            hvac_dict[hvac_type] = 1\n",
    "        \n",
    "exist_count"
   ]
  },
  {
   "cell_type": "code",
   "execution_count": 8,
   "metadata": {},
   "outputs": [
    {
     "data": {
      "text/plain": [
       "{'heatpump': 19,\n",
       " 'centralAC': 22,\n",
       " 'windowshaker': 8,\n",
       " 'PTAC': 5,\n",
       " 'dhp': 4,\n",
       " 'gshp': 1,\n",
       " 'heatpumpdualfuel': 2}"
      ]
     },
     "execution_count": 8,
     "metadata": {},
     "output_type": "execute_result"
    }
   ],
   "source": [
    "hvac_dict"
   ]
  },
  {
   "cell_type": "code",
   "execution_count": 9,
   "metadata": {},
   "outputs": [],
   "source": [
    "wh_df = pd.read_csv('rbsa/2011 RBSA Single Family Database-SFwheater.csv', index_col=0)"
   ]
  },
  {
   "cell_type": "code",
   "execution_count": 10,
   "metadata": {},
   "outputs": [
    {
     "data": {
      "text/plain": [
       "Index(['siteid', 'waterheater_it', 'WHFuel', 'GeneralNotes',\n",
       "       'SolarWaterheating', 'WHBrand', 'WHCapacityBTU', 'WHCapacityKW',\n",
       "       'WHClearance', 'WHDrainType', 'WHExhaustToGarage', 'WHHeatPump',\n",
       "       'WHInConditionedSpace', 'WHManYear', 'WHNearDrain', 'WHRoomOver1000ft3',\n",
       "       'WHSupplyAir', 'WHTankSize', 'WHTankWrap', 'WHWholeHouse',\n",
       "       'WaterheaterEquipment', 'WaterheaterLocation', 'WaterheaterPilot',\n",
       "       'WaterheaterType'],\n",
       "      dtype='object')"
      ]
     },
     "execution_count": 10,
     "metadata": {},
     "output_type": "execute_result"
    }
   ],
   "source": [
    "wh_df.columns"
   ]
  },
  {
   "cell_type": "code",
   "execution_count": 11,
   "metadata": {},
   "outputs": [
    {
     "data": {
      "text/plain": [
       "103"
      ]
     },
     "execution_count": 11,
     "metadata": {},
     "output_type": "execute_result"
    }
   ],
   "source": [
    "exist_count = 0\n",
    "wh_dict = {}\n",
    "\n",
    "for site in sites:\n",
    "    if site in wh_df['siteid'].unique():\n",
    "        exist_count += 1\n",
    "        wh_type = wh_df.loc[wh_df['siteid'] == site]['WHFuel'].iloc[0]\n",
    "        if wh_type in wh_dict.keys():\n",
    "            wh_dict[wh_type] += 1\n",
    "        else:\n",
    "            wh_dict[wh_type] = 1\n",
    "        \n",
    "exist_count"
   ]
  },
  {
   "cell_type": "code",
   "execution_count": 12,
   "metadata": {},
   "outputs": [
    {
     "data": {
      "text/plain": [
       "{'Electric': 58, 'Gas': 45}"
      ]
     },
     "execution_count": 12,
     "metadata": {},
     "output_type": "execute_result"
    }
   ],
   "source": [
    "wh_dict"
   ]
  },
  {
   "cell_type": "code",
   "execution_count": 13,
   "metadata": {},
   "outputs": [],
   "source": [
    "cook_df = pd.read_csv('rbsa/2011 RBSA Single Family Database-SFcookeq.csv', index_col=0)"
   ]
  },
  {
   "cell_type": "code",
   "execution_count": 14,
   "metadata": {},
   "outputs": [
    {
     "data": {
      "text/plain": [
       "103"
      ]
     },
     "execution_count": 14,
     "metadata": {},
     "output_type": "execute_result"
    }
   ],
   "source": [
    "exist_count = 0\n",
    "cooktop_dict = {}\n",
    "oven_dict = {}\n",
    "\n",
    "for site in sites:\n",
    "    if site in cook_df['siteid'].unique():\n",
    "        exist_count += 1\n",
    "        cooktop_type = cook_df.loc[cook_df['siteid'] == site]['CooktopFuel'].iloc[0]\n",
    "        if cooktop_type in cooktop_dict.keys():\n",
    "            cooktop_dict[cooktop_type] += 1\n",
    "        else:\n",
    "            cooktop_dict[cooktop_type] = 1\n",
    "        oven_type = cook_df.loc[cook_df['siteid'] == site]['OvenFuel'].iloc[0]\n",
    "        if oven_type in oven_dict.keys():\n",
    "            oven_dict[oven_type] += 1\n",
    "        else:\n",
    "            oven_dict[oven_type] = 1\n",
    "        \n",
    "exist_count"
   ]
  },
  {
   "cell_type": "code",
   "execution_count": 15,
   "metadata": {},
   "outputs": [
    {
     "data": {
      "text/plain": [
       "{'Electric': 79, 'Gas': 20, 'Propane': 4}"
      ]
     },
     "execution_count": 15,
     "metadata": {},
     "output_type": "execute_result"
    }
   ],
   "source": [
    "cooktop_dict"
   ]
  },
  {
   "cell_type": "code",
   "execution_count": 16,
   "metadata": {},
   "outputs": [
    {
     "data": {
      "text/plain": [
       "{'Electric': 87, 'Gas': 13, 'Propane': 3}"
      ]
     },
     "execution_count": 16,
     "metadata": {},
     "output_type": "execute_result"
    }
   ],
   "source": [
    "oven_dict"
   ]
  },
  {
   "cell_type": "code",
   "execution_count": null,
   "metadata": {},
   "outputs": [],
   "source": []
  }
 ],
 "metadata": {
  "kernelspec": {
   "display_name": "Python 3",
   "language": "python",
   "name": "python3"
  },
  "language_info": {
   "codemirror_mode": {
    "name": "ipython",
    "version": 3
   },
   "file_extension": ".py",
   "mimetype": "text/x-python",
   "name": "python",
   "nbconvert_exporter": "python",
   "pygments_lexer": "ipython3",
   "version": "3.6.6"
  }
 },
 "nbformat": 4,
 "nbformat_minor": 2
}
