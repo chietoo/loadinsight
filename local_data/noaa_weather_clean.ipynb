{
 "cells": [
  {
   "cell_type": "code",
   "execution_count": 4,
   "metadata": {},
   "outputs": [],
   "source": [
    "import os\n",
    "import pandas as pd"
   ]
  },
  {
   "cell_type": "code",
   "execution_count": 5,
   "metadata": {},
   "outputs": [],
   "source": [
    "def fahr_to_celsius(temp_fahr):\n",
    "    \"\"\"Convert Fahrenheit to Celsius\n",
    "    Return Celsius conversion of input\n",
    "    \"\"\"\n",
    "\n",
    "    temp_celsius = (temp_fahr - 32) * 5 / 9\n",
    "\n",
    "    temp_celsius =temp_celsius.astype(int)\n",
    "    return temp_celsius"
   ]
  },
  {
   "cell_type": "code",
   "execution_count": 8,
   "metadata": {},
   "outputs": [
    {
     "name": "stdout",
     "output_type": "stream",
     "text": [
      "974.csv\n",
      "988.csv\n",
      "989.csv\n",
      "594.csv\n",
      "972.csv\n",
      ".DS_Store\n",
      "973.csv\n",
      "597.csv\n",
      "971.csv\n",
      "838.csv\n",
      "970.csv\n",
      "596.csv\n",
      "982.csv\n",
      "835.csv\n",
      "983.csv\n",
      "598.csv\n",
      "981.csv\n",
      "836.csv\n",
      "837.csv\n",
      "980.csv\n",
      "990.csv\n",
      "984.csv\n",
      "833.csv\n",
      "985.csv\n",
      "991.csv\n",
      "993.csv\n",
      "992.csv\n"
     ]
    }
   ],
   "source": [
    "for file in os.listdir('rbsa_weather/'):\n",
    "    print(file)\n",
    "    if file[0] == '.': continue\n",
    "    weather_df_noaa = pd.read_csv('rbsa_weather/'+file,index_col=1, low_memory=False)   \n",
    "    weather_df_noaa.index = pd.to_datetime(weather_df_noaa.index)\n",
    "    weather_df_noaa = weather_df_noaa.loc[weather_df_noaa['REPORT_TYPE'] != 'SOD']\n",
    "    weather_df_noaa = pd.DataFrame(weather_df_noaa.HourlyDryBulbTemperature)\n",
    "    weather_df_noaa.columns = ['Temperature']\n",
    "    weather_df_noaa[\"Temperature\"] = pd.to_numeric(weather_df_noaa[\"Temperature\"],errors='coerce')\n",
    "    weather_df_noaa = weather_df_noaa.resample('60T').mean()\n",
    "    weather_df_noaa.fillna(method='ffill', inplace=True)\n",
    "    weather_df_noaa[\"Temperature\"] = fahr_to_celsius(weather_df_noaa[\"Temperature\"])\n",
    "    weather_df_noaa.to_csv('rbsa_noaa/'+file)\n",
    "    \n"
   ]
  },
  {
   "cell_type": "code",
   "execution_count": null,
   "metadata": {},
   "outputs": [],
   "source": []
  }
 ],
 "metadata": {
  "kernelspec": {
   "display_name": "Python 3",
   "language": "python",
   "name": "python3"
  },
  "language_info": {
   "codemirror_mode": {
    "name": "ipython",
    "version": 3
   },
   "file_extension": ".py",
   "mimetype": "text/x-python",
   "name": "python",
   "nbconvert_exporter": "python",
   "pygments_lexer": "ipython3",
   "version": "3.6.6"
  }
 },
 "nbformat": 4,
 "nbformat_minor": 2
}
