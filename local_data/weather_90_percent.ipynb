{
 "cells": [
  {
   "cell_type": "code",
   "execution_count": 2,
   "metadata": {},
   "outputs": [],
   "source": [
    "import pandas as pd\n",
    "import xlrd"
   ]
  },
  {
   "cell_type": "code",
   "execution_count": 3,
   "metadata": {},
   "outputs": [],
   "source": [
    "def fahr_to_celsius(temp_fahr):\n",
    "    \"\"\"Convert Fahrenheit to Celsius\n",
    "    \n",
    "    Return Celsius conversion of input\"\"\"\n",
    "    temp_celsius = (temp_fahr - 32) * 5 / 9\n",
    "    return temp_celsius"
   ]
  },
  {
   "cell_type": "code",
   "execution_count": 11,
   "metadata": {},
   "outputs": [
    {
     "name": "stdout",
     "output_type": "stream",
     "text": [
      "tony_weather/WECC Temp Profiles.xlsx\n",
      "tony_weather/ERCOT Temp Profiles.xlsx\n",
      "tony_weather/MRO Temp Profiles.xlsx\n",
      "tony_weather/PJM Temp Profiles.xlsx\n",
      "tony_weather/SPP Temp Profiles.xlsx\n",
      "tony_weather/SERC Temp Profiles.xlsx\n",
      "tony_weather/NPCC Temp Profiles.xlsx\n"
     ]
    }
   ],
   "source": [
    "folder = 'tony_weather/'\n",
    "files = ['WECC Temp Profiles.xlsx', 'ERCOT Temp Profiles.xlsx', 'MRO Temp Profiles.xlsx', \n",
    "         'PJM Temp Profiles.xlsx', 'SPP Temp Profiles.xlsx', 'SERC Temp Profiles.xlsx', 'NPCC Temp Profiles.xlsx']\n",
    "\n",
    "location_dict = {}\n",
    "\n",
    "for file in files:\n",
    "    filepath = folder + file\n",
    "    print(filepath)\n",
    "    xls = xlrd.open_workbook(filepath, on_demand=True)\n",
    "    sheets = xls.sheet_names()\n",
    "    \n",
    "    for sheet in sheets:\n",
    "        sheet_df = pd.read_excel(filepath, sheet_name=sheet)\n",
    "        city = sheet_df.columns[1]\n",
    "        city = city.replace(' ', '')\n",
    "        zone = sheet_df.iloc[0, 1]\n",
    "        location_dict[city] = zone\n",
    "        summer_measured = sheet_df.iloc[5:29, 2]\n",
    "        winter_measured = sheet_df.iloc[5:29, 5]\n",
    "        spring_measured = sheet_df.iloc[5:29, 7]\n",
    "        summer_adjusted = sheet_df.iloc[5:29, 11]\n",
    "        winter_adjusted = sheet_df.iloc[5:29, 14]\n",
    "        spring_adjusted = sheet_df.iloc[5:29, 16]\n",
    "\n",
    "        df = pd.concat([summer_measured, winter_measured, spring_measured, summer_adjusted, winter_adjusted, spring_adjusted], axis=1)\n",
    "        df.columns = ['summer', 'winter', 'spring', 'summer_adjusted', 'winter_adjusted', 'spring_adjusted']\n",
    "        df = df.reset_index(drop=True)\n",
    "        df = fahr_to_celsius(df)\n",
    "        df.to_csv('tony_output/'+city+'.csv')\n",
    "\n",
    "location_mapping = df.from_dict(location_dict, columns=['zone'], orient='index')\n",
    "location_mapping.to_csv('target_mapping.csv')"
   ]
  },
  {
   "cell_type": "code",
   "execution_count": null,
   "metadata": {},
   "outputs": [],
   "source": [
    "FIX TEXAS NAMES MANUALLY"
   ]
  },
  {
   "cell_type": "code",
   "execution_count": null,
   "metadata": {},
   "outputs": [],
   "source": []
  }
 ],
 "metadata": {
  "kernelspec": {
   "display_name": "Python 3",
   "language": "python",
   "name": "python3"
  },
  "language_info": {
   "codemirror_mode": {
    "name": "ipython",
    "version": 3
   },
   "file_extension": ".py",
   "mimetype": "text/x-python",
   "name": "python",
   "nbconvert_exporter": "python",
   "pygments_lexer": "ipython3",
   "version": "3.6.6"
  }
 },
 "nbformat": 4,
 "nbformat_minor": 2
}
